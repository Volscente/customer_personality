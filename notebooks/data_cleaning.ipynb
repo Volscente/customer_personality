{
 "cells": [
  {
   "cell_type": "markdown",
   "metadata": {},
   "source": [
    "# Introduction\n",
    "\n",
    "The notebook is intended to perform data cleaning process over the dataset **Customer Personality Analysis**.\n",
    "\n",
    "\n",
    "[Dataset](https://www.kaggle.com/datasets/imakash3011/customer-personality-analysis)"
   ]
  },
  {
   "cell_type": "code",
   "execution_count": 1,
   "metadata": {},
   "outputs": [],
   "source": [
    "# Import Standard Modules\n",
    "import pandas as pd\n",
    "\n",
    "import plotly.express as ex\n",
    "\n",
    "# Set Pandas Options\n",
    "pd.set_option('display.max_columns', 500)"
   ]
  },
  {
   "cell_type": "markdown",
   "metadata": {},
   "source": [
    "# Read Data"
   ]
  },
  {
   "cell_type": "code",
   "execution_count": 2,
   "metadata": {},
   "outputs": [],
   "source": [
    "# Read data from csv\n",
    "data = pd.read_csv('../data/marketing_campaign.csv', sep='\\t', encoding='latin1')"
   ]
  },
  {
   "cell_type": "markdown",
   "metadata": {},
   "source": [
    "# Remove Useless Columns\n",
    "\n",
    "As shown in the notebook exploratory_data_analysis, the following columns are meaningless:\n",
    "1. Z_CostContact\n",
    "2. Z_Revenue"
   ]
  },
  {
   "cell_type": "code",
   "execution_count": 3,
   "metadata": {},
   "outputs": [],
   "source": [
    "# Define useless columns\n",
    "useless_columns = ['Z_CostContact', \n",
    "                   'Z_Revenue']"
   ]
  },
  {
   "cell_type": "code",
   "execution_count": 4,
   "metadata": {},
   "outputs": [],
   "source": [
    "data = data.drop(useless_columns, axis=1)"
   ]
  },
  {
   "cell_type": "markdown",
   "metadata": {},
   "source": [
    "# Cleaning Outliers\n",
    "\n",
    "Possible approaches:\n",
    "1. Drop outliers - This technique can drastically reduce the amount of data.\n",
    "2. Cap outliers - This technique is useful when we can assume that all outliers epress the same behaviors or pattern and thus the model wouldn't learn anything new from them\n",
    "3. Fill using mean"
   ]
  },
  {
   "cell_type": "markdown",
   "metadata": {},
   "source": [
    "## Interquartile Range (IQR)"
   ]
  },
  {
   "cell_type": "code",
   "execution_count": 5,
   "metadata": {},
   "outputs": [],
   "source": [
    "# Define the list of columns for which compute the IQR\n",
    "iqr_columns = ['Year_Birth', \n",
    "               'Income', \n",
    "               'MntWines', \n",
    "               'MntFruits', \n",
    "               'MntMeatProducts', \n",
    "               'MntFishProducts', \n",
    "               'MntSweetProducts', \n",
    "               'MntGoldProds', \n",
    "               'NumDealsPurchases', \n",
    "               'NumWebPurchases',\n",
    "               'NumCatalogPurchases', \n",
    "               'NumWebVisitsMonth']"
   ]
  },
  {
   "cell_type": "code",
   "execution_count": 6,
   "metadata": {},
   "outputs": [],
   "source": [
    "# Compute Q1 and Q3\n",
    "q1 = data[iqr_columns].quantile(0.25)\n",
    "q3 = data[iqr_columns].quantile(0.75)"
   ]
  },
  {
   "cell_type": "code",
   "execution_count": 7,
   "metadata": {},
   "outputs": [],
   "source": [
    "# Compute the IQR\n",
    "iqr = q3 - q1"
   ]
  },
  {
   "cell_type": "code",
   "execution_count": 8,
   "metadata": {},
   "outputs": [],
   "source": [
    "# Compute the lower and upper filtering bounds\n",
    "lower_filtering_bound = q1 - 1.5*iqr\n",
    "upper_filtering_bound = q3 + 1.5*iqr"
   ]
  },
  {
   "cell_type": "code",
   "execution_count": 19,
   "metadata": {},
   "outputs": [
    {
     "data": {
      "text/plain": [
       "Year_Birth              1932.0\n",
       "Income                -14525.5\n",
       "MntWines                -697.0\n",
       "MntFruits                -47.0\n",
       "MntMeatProducts         -308.0\n",
       "MntFishProducts          -67.5\n",
       "MntSweetProducts         -47.0\n",
       "MntGoldProds             -61.5\n",
       "NumDealsPurchases         -2.0\n",
       "NumWebPurchases           -4.0\n",
       "NumCatalogPurchases       -6.0\n",
       "NumWebVisitsMonth         -3.0\n",
       "dtype: float64"
      ]
     },
     "execution_count": 19,
     "metadata": {},
     "output_type": "execute_result"
    }
   ],
   "source": [
    "lower_filtering_bound.reindex()"
   ]
  },
  {
   "cell_type": "code",
   "execution_count": 31,
   "metadata": {},
   "outputs": [
    {
     "name": "stderr",
     "output_type": "stream",
     "text": [
      "/var/folders/0t/njq6l7654w566vf2sbzchn3r0000gp/T/ipykernel_15727/2363220639.py:2: FutureWarning: Automatic reindexing on DataFrame vs Series comparisons is deprecated and will raise ValueError in a future version.  Do `left, right = left.align(right, axis=1, copy=False)` before e.g. `left == right`\n",
      "  data_cleaned_outliers = data[~((data < lower_filtering_bound.reindex()) |(data > upper_filtering_bound.reindex())).any(axis=1)].reset_index(inplace=True)\n"
     ]
    }
   ],
   "source": [
    "# Filter outliers\n",
    "data_cleaned_outliers = data[~((data < lower_filtering_bound.reindex()) |(data > upper_filtering_bound.reindex())).any(axis=1)].reset_index(inplace=True)"
   ]
  },
  {
   "cell_type": "code",
   "execution_count": 34,
   "metadata": {},
   "outputs": [
    {
     "ename": "AttributeError",
     "evalue": "'NoneType' object has no attribute 'head'",
     "output_type": "error",
     "traceback": [
      "\u001b[0;31m---------------------------------------------------------------------------\u001b[0m",
      "\u001b[0;31mAttributeError\u001b[0m                            Traceback (most recent call last)",
      "Input \u001b[0;32mIn [34]\u001b[0m, in \u001b[0;36m<module>\u001b[0;34m\u001b[0m\n\u001b[0;32m----> 1\u001b[0m \u001b[43mdata_cleaned_outliers\u001b[49m\u001b[38;5;241;43m.\u001b[39;49m\u001b[43mhead\u001b[49m()\n",
      "\u001b[0;31mAttributeError\u001b[0m: 'NoneType' object has no attribute 'head'"
     ]
    }
   ],
   "source": [
    "data_cleaned_outliers.head()"
   ]
  },
  {
   "cell_type": "code",
   "execution_count": null,
   "metadata": {},
   "outputs": [],
   "source": []
  }
 ],
 "metadata": {
  "kernelspec": {
   "display_name": "Python 3 (ipykernel)",
   "language": "python",
   "name": "python3"
  },
  "language_info": {
   "codemirror_mode": {
    "name": "ipython",
    "version": 3
   },
   "file_extension": ".py",
   "mimetype": "text/x-python",
   "name": "python",
   "nbconvert_exporter": "python",
   "pygments_lexer": "ipython3",
   "version": "3.8.12"
  }
 },
 "nbformat": 4,
 "nbformat_minor": 4
}
