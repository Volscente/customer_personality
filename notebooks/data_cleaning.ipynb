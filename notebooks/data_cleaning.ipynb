{
 "cells": [
  {
   "cell_type": "markdown",
   "metadata": {},
   "source": [
    "# Introduction\n",
    "\n",
    "The notebook is intended to perform data cleaning process over the dataset **Customer Personality Analysis**.\n",
    "\n",
    "\n",
    "[Dataset](https://www.kaggle.com/datasets/imakash3011/customer-personality-analysis)"
   ]
  },
  {
   "cell_type": "code",
   "execution_count": 3,
   "metadata": {},
   "outputs": [],
   "source": [
    "# Import Standard Modules\n",
    "import pandas as pd\n",
    "\n",
    "import plotly.express as ex\n",
    "\n",
    "# Set Pandas Options\n",
    "pd.set_option('display.max_columns', 500)"
   ]
  },
  {
   "cell_type": "markdown",
   "metadata": {},
   "source": [
    "# Read Data"
   ]
  },
  {
   "cell_type": "code",
   "execution_count": 4,
   "metadata": {},
   "outputs": [],
   "source": [
    "# Read data from csv\n",
    "data = pd.read_csv('../data/marketing_campaign.csv', sep='\\t', encoding='latin1')"
   ]
  },
  {
   "cell_type": "markdown",
   "metadata": {},
   "source": [
    "# Cleaning Outliers\n",
    "\n",
    "Possible approaches:\n",
    "1. Drop outliers - This technique can drastically reduce the amount of data.\n",
    "2. Cap outliers - This technique is useful when we can assume that all outliers epress the same behaviors or pattern and thus the model wouldn't learn anything new from them\n",
    "3. Fill using mean"
   ]
  },
  {
   "cell_type": "markdown",
   "metadata": {},
   "source": [
    "## Interquartile Range (IQR)"
   ]
  },
  {
   "cell_type": "code",
   "execution_count": 5,
   "metadata": {},
   "outputs": [],
   "source": [
    "# Compute Q1 and Q3\n",
    "q1 = data.quantile(0.25)\n",
    "q3 = data.quantile(0.75)"
   ]
  },
  {
   "cell_type": "code",
   "execution_count": 18,
   "metadata": {},
   "outputs": [
    {
     "data": {
      "text/plain": [
       "ID                      2828.25\n",
       "Year_Birth              1959.00\n",
       "Income                 35303.00\n",
       "Kidhome                    0.00\n",
       "Teenhome                   0.00\n",
       "Recency                   24.00\n",
       "MntWines                  23.75\n",
       "MntFruits                  1.00\n",
       "MntMeatProducts           16.00\n",
       "MntFishProducts            3.00\n",
       "MntSweetProducts           1.00\n",
       "MntGoldProds               9.00\n",
       "NumDealsPurchases          1.00\n",
       "NumWebPurchases            2.00\n",
       "NumCatalogPurchases        0.00\n",
       "NumStorePurchases          3.00\n",
       "NumWebVisitsMonth          3.00\n",
       "AcceptedCmp3               0.00\n",
       "AcceptedCmp4               0.00\n",
       "AcceptedCmp5               0.00\n",
       "AcceptedCmp1               0.00\n",
       "AcceptedCmp2               0.00\n",
       "Complain                   0.00\n",
       "Z_CostContact              3.00\n",
       "Z_Revenue                 11.00\n",
       "Response                   0.00\n",
       "Name: 0.25, dtype: float64"
      ]
     },
     "execution_count": 18,
     "metadata": {},
     "output_type": "execute_result"
    }
   ],
   "source": [
    "q1"
   ]
  },
  {
   "cell_type": "code",
   "execution_count": 20,
   "metadata": {},
   "outputs": [
    {
     "data": {
      "text/plain": [
       "ID                      8427.75\n",
       "Year_Birth              1977.00\n",
       "Income                 68522.00\n",
       "Kidhome                    1.00\n",
       "Teenhome                   1.00\n",
       "Recency                   74.00\n",
       "MntWines                 504.25\n",
       "MntFruits                 33.00\n",
       "MntMeatProducts          232.00\n",
       "MntFishProducts           50.00\n",
       "MntSweetProducts          33.00\n",
       "MntGoldProds              56.00\n",
       "NumDealsPurchases          3.00\n",
       "NumWebPurchases            6.00\n",
       "NumCatalogPurchases        4.00\n",
       "NumStorePurchases          8.00\n",
       "NumWebVisitsMonth          7.00\n",
       "AcceptedCmp3               0.00\n",
       "AcceptedCmp4               0.00\n",
       "AcceptedCmp5               0.00\n",
       "AcceptedCmp1               0.00\n",
       "AcceptedCmp2               0.00\n",
       "Complain                   0.00\n",
       "Z_CostContact              3.00\n",
       "Z_Revenue                 11.00\n",
       "Response                   0.00\n",
       "Name: 0.75, dtype: float64"
      ]
     },
     "execution_count": 20,
     "metadata": {},
     "output_type": "execute_result"
    }
   ],
   "source": [
    "q3"
   ]
  },
  {
   "cell_type": "code",
   "execution_count": 13,
   "metadata": {},
   "outputs": [],
   "source": [
    "# Compute the IQR\n",
    "iqr = q3 - q1"
   ]
  },
  {
   "cell_type": "code",
   "execution_count": 17,
   "metadata": {},
   "outputs": [
    {
     "data": {
      "text/plain": [
       "ID                      5599.5\n",
       "Year_Birth                18.0\n",
       "Income                 33219.0\n",
       "Kidhome                    1.0\n",
       "Teenhome                   1.0\n",
       "Recency                   50.0\n",
       "MntWines                 480.5\n",
       "MntFruits                 32.0\n",
       "MntMeatProducts          216.0\n",
       "MntFishProducts           47.0\n",
       "MntSweetProducts          32.0\n",
       "MntGoldProds              47.0\n",
       "NumDealsPurchases          2.0\n",
       "NumWebPurchases            4.0\n",
       "NumCatalogPurchases        4.0\n",
       "NumStorePurchases          5.0\n",
       "NumWebVisitsMonth          4.0\n",
       "AcceptedCmp3               0.0\n",
       "AcceptedCmp4               0.0\n",
       "AcceptedCmp5               0.0\n",
       "AcceptedCmp1               0.0\n",
       "AcceptedCmp2               0.0\n",
       "Complain                   0.0\n",
       "Z_CostContact              0.0\n",
       "Z_Revenue                  0.0\n",
       "Response                   0.0\n",
       "dtype: float64"
      ]
     },
     "execution_count": 17,
     "metadata": {},
     "output_type": "execute_result"
    }
   ],
   "source": [
    "iqr"
   ]
  },
  {
   "cell_type": "code",
   "execution_count": 14,
   "metadata": {},
   "outputs": [
    {
     "name": "stderr",
     "output_type": "stream",
     "text": [
      "/var/folders/0t/njq6l7654w566vf2sbzchn3r0000gp/T/ipykernel_3483/1513653461.py:2: FutureWarning: Automatic reindexing on DataFrame vs Series comparisons is deprecated and will raise ValueError in a future version.  Do `left, right = left.align(right, axis=1, copy=False)` before e.g. `left == right`\n",
      "  outliers = data[(data < (q1 - 1.5*iqr)) | (data > (q3 + 1.5*iqr))]\n"
     ]
    }
   ],
   "source": [
    "# Filter out outliers based on IQR\n",
    "outliers = data[(data < (q1 - 1.5*iqr)) | (data > (q3 + 1.5*iqr))]"
   ]
  },
  {
   "cell_type": "code",
   "execution_count": null,
   "metadata": {},
   "outputs": [],
   "source": []
  }
 ],
 "metadata": {
  "kernelspec": {
   "display_name": "Python 3 (ipykernel)",
   "language": "python",
   "name": "python3"
  },
  "language_info": {
   "codemirror_mode": {
    "name": "ipython",
    "version": 3
   },
   "file_extension": ".py",
   "mimetype": "text/x-python",
   "name": "python",
   "nbconvert_exporter": "python",
   "pygments_lexer": "ipython3",
   "version": "3.8.12"
  }
 },
 "nbformat": 4,
 "nbformat_minor": 4
}
