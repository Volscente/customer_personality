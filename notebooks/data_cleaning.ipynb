{
 "cells": [
  {
   "cell_type": "markdown",
   "metadata": {},
   "source": [
    "# Introduction\n",
    "\n",
    "The notebook is intended to perform data cleaning process over the dataset **Customer Personality Analysis**.\n",
    "\n",
    "\n",
    "[Dataset](https://www.kaggle.com/datasets/imakash3011/customer-personality-analysis)"
   ]
  },
  {
   "cell_type": "code",
   "execution_count": 3,
   "metadata": {},
   "outputs": [],
   "source": [
    "# Import Standard Modules\n",
    "import pandas as pd\n",
    "\n",
    "import plotly.express as ex\n",
    "\n",
    "# Set Pandas Options\n",
    "pd.set_option('display.max_columns', 500)"
   ]
  },
  {
   "cell_type": "markdown",
   "metadata": {},
   "source": [
    "# Read Data"
   ]
  },
  {
   "cell_type": "code",
   "execution_count": 4,
   "metadata": {},
   "outputs": [],
   "source": [
    "# Read data from csv\n",
    "data = pd.read_csv('../data/marketing_campaign.csv', sep='\\t', encoding='latin1')"
   ]
  },
  {
   "cell_type": "markdown",
   "metadata": {},
   "source": [
    "# Cleaning Outliers\n",
    "\n",
    "Possible approaches:\n",
    "1. Drop outliers - This technique can drastically reduce the amount of data.\n",
    "2. Cap outliers - This technique is useful when we can assume that all outliers epress the same behaviors or pattern and thus the model wouldn't learn anything new from them\n",
    "3. Fill using mean"
   ]
  },
  {
   "cell_type": "markdown",
   "metadata": {},
   "source": [
    "## Interquartile Range (IQR)"
   ]
  },
  {
   "cell_type": "code",
   "execution_count": null,
   "metadata": {},
   "outputs": [],
   "source": [
    "# Define the list of columns for which compute the IQR\n",
    "iqr_columns = ['Year_Birth', 'Income', 'MntWines', 'MntFruits']"
   ]
  },
  {
   "cell_type": "code",
   "execution_count": 25,
   "metadata": {},
   "outputs": [],
   "source": [
    "# Compute Q1 and Q3\n",
    "q1 = data.drop(['Complain'], axis=1).quantile(0.25)\n",
    "q3 = data.drop(['Complain'], axis=1).quantile(0.75)"
   ]
  },
  {
   "cell_type": "code",
   "execution_count": 26,
   "metadata": {},
   "outputs": [],
   "source": [
    "# Compute the IQR\n",
    "iqr = q3 - q1"
   ]
  },
  {
   "cell_type": "code",
   "execution_count": 27,
   "metadata": {},
   "outputs": [
    {
     "data": {
      "text/plain": [
       "ID                     -5571.0\n",
       "Year_Birth              1932.0\n",
       "Income                -14525.5\n",
       "Kidhome                   -1.5\n",
       "Teenhome                  -1.5\n",
       "Recency                  -51.0\n",
       "MntWines                -697.0\n",
       "MntFruits                -47.0\n",
       "MntMeatProducts         -308.0\n",
       "MntFishProducts          -67.5\n",
       "MntSweetProducts         -47.0\n",
       "MntGoldProds             -61.5\n",
       "NumDealsPurchases         -2.0\n",
       "NumWebPurchases           -4.0\n",
       "NumCatalogPurchases       -6.0\n",
       "NumStorePurchases         -4.5\n",
       "NumWebVisitsMonth         -3.0\n",
       "AcceptedCmp3               0.0\n",
       "AcceptedCmp4               0.0\n",
       "AcceptedCmp5               0.0\n",
       "AcceptedCmp1               0.0\n",
       "AcceptedCmp2               0.0\n",
       "Z_CostContact              3.0\n",
       "Z_Revenue                 11.0\n",
       "Response                   0.0\n",
       "dtype: float64"
      ]
     },
     "execution_count": 27,
     "metadata": {},
     "output_type": "execute_result"
    }
   ],
   "source": [
    "# Check lower filtering range\n",
    "q1 - 1.5*iqr"
   ]
  },
  {
   "cell_type": "code",
   "execution_count": 28,
   "metadata": {},
   "outputs": [
    {
     "data": {
      "text/plain": [
       "ID                      16827.0\n",
       "Year_Birth               2004.0\n",
       "Income                 118350.5\n",
       "Kidhome                     2.5\n",
       "Teenhome                    2.5\n",
       "Recency                   149.0\n",
       "MntWines                 1225.0\n",
       "MntFruits                  81.0\n",
       "MntMeatProducts           556.0\n",
       "MntFishProducts           120.5\n",
       "MntSweetProducts           81.0\n",
       "MntGoldProds              126.5\n",
       "NumDealsPurchases           6.0\n",
       "NumWebPurchases            12.0\n",
       "NumCatalogPurchases        10.0\n",
       "NumStorePurchases          15.5\n",
       "NumWebVisitsMonth          13.0\n",
       "AcceptedCmp3                0.0\n",
       "AcceptedCmp4                0.0\n",
       "AcceptedCmp5                0.0\n",
       "AcceptedCmp1                0.0\n",
       "AcceptedCmp2                0.0\n",
       "Z_CostContact               3.0\n",
       "Z_Revenue                  11.0\n",
       "Response                    0.0\n",
       "dtype: float64"
      ]
     },
     "execution_count": 28,
     "metadata": {},
     "output_type": "execute_result"
    }
   ],
   "source": [
    "# Check Upper filtering range\n",
    "q3 + 1.5*iqr"
   ]
  },
  {
   "cell_type": "code",
   "execution_count": null,
   "metadata": {},
   "outputs": [],
   "source": []
  }
 ],
 "metadata": {
  "kernelspec": {
   "display_name": "Python 3 (ipykernel)",
   "language": "python",
   "name": "python3"
  },
  "language_info": {
   "codemirror_mode": {
    "name": "ipython",
    "version": 3
   },
   "file_extension": ".py",
   "mimetype": "text/x-python",
   "name": "python",
   "nbconvert_exporter": "python",
   "pygments_lexer": "ipython3",
   "version": "3.8.12"
  }
 },
 "nbformat": 4,
 "nbformat_minor": 4
}
