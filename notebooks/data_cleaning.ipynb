{
 "cells": [
  {
   "cell_type": "markdown",
   "metadata": {},
   "source": [
    "# Introduction\n",
    "\n",
    "The notebook is intended to perform data cleaning process over the dataset **Customer Personality Analysis**.\n",
    "\n",
    "\n",
    "[Dataset](https://www.kaggle.com/datasets/imakash3011/customer-personality-analysis)"
   ]
  },
  {
   "cell_type": "code",
   "execution_count": 3,
   "metadata": {},
   "outputs": [],
   "source": [
    "# Import Standard Modules\n",
    "import pandas as pd\n",
    "\n",
    "import plotly.express as ex\n",
    "\n",
    "# Set Pandas Options\n",
    "pd.set_option('display.max_columns', 500)"
   ]
  },
  {
   "cell_type": "markdown",
   "metadata": {},
   "source": [
    "# Read Data"
   ]
  },
  {
   "cell_type": "code",
   "execution_count": 4,
   "metadata": {},
   "outputs": [],
   "source": [
    "# Read data from csv\n",
    "data = pd.read_csv('../data/marketing_campaign.csv', sep='\\t', encoding='latin1')"
   ]
  },
  {
   "cell_type": "markdown",
   "metadata": {},
   "source": [
    "# Cleaning Outliers\n",
    "\n",
    "Possible approaches:\n",
    "1. Drop outliers - This technique can drastically reduce the amount of data.\n",
    "2. Cap outliers - This technique is useful when we can assume that all outliers epress the same behaviors or pattern and thus the model wouldn't learn anything new from them\n",
    "3. Fill using mean"
   ]
  },
  {
   "cell_type": "markdown",
   "metadata": {},
   "source": [
    "## Interquartile Range (IQR)"
   ]
  },
  {
   "cell_type": "code",
   "execution_count": 5,
   "metadata": {},
   "outputs": [],
   "source": [
    "# Compute Q1 and Q3\n",
    "q1 = data.quantile(0.25)\n",
    "q3 = data.quantile(0.75)"
   ]
  },
  {
   "cell_type": "code",
   "execution_count": 13,
   "metadata": {},
   "outputs": [],
   "source": [
    "# Compute the IQR\n",
    "iqr = q3 - q1"
   ]
  },
  {
   "cell_type": "code",
   "execution_count": 14,
   "metadata": {},
   "outputs": [
    {
     "name": "stderr",
     "output_type": "stream",
     "text": [
      "/var/folders/0t/njq6l7654w566vf2sbzchn3r0000gp/T/ipykernel_3483/1513653461.py:2: FutureWarning: Automatic reindexing on DataFrame vs Series comparisons is deprecated and will raise ValueError in a future version.  Do `left, right = left.align(right, axis=1, copy=False)` before e.g. `left == right`\n",
      "  outliers = data[(data < (q1 - 1.5*iqr)) | (data > (q3 + 1.5*iqr))]\n"
     ]
    }
   ],
   "source": [
    "# Filter out outliers based on IQR\n",
    "outliers = data[(data < (q1 - 1.5*iqr)) | (data > (q3 + 1.5*iqr))]"
   ]
  },
  {
   "cell_type": "code",
   "execution_count": 16,
   "metadata": {},
   "outputs": [
    {
     "name": "stdout",
     "output_type": "stream",
     "text": [
      "      ID  Year_Birth Education Marital_Status  Income  Kidhome  Teenhome  \\\n",
      "0    NaN         NaN       NaN            NaN     NaN      NaN       NaN   \n",
      "1    NaN         NaN       NaN            NaN     NaN      NaN       NaN   \n",
      "2    NaN         NaN       NaN            NaN     NaN      NaN       NaN   \n",
      "3    NaN         NaN       NaN            NaN     NaN      NaN       NaN   \n",
      "4    NaN         NaN       NaN            NaN     NaN      NaN       NaN   \n",
      "...   ..         ...       ...            ...     ...      ...       ...   \n",
      "2235 NaN         NaN       NaN            NaN     NaN      NaN       NaN   \n",
      "2236 NaN         NaN       NaN            NaN     NaN      NaN       NaN   \n",
      "2237 NaN         NaN       NaN            NaN     NaN      NaN       NaN   \n",
      "2238 NaN         NaN       NaN            NaN     NaN      NaN       NaN   \n",
      "2239 NaN         NaN       NaN            NaN     NaN      NaN       NaN   \n",
      "\n",
      "     Dt_Customer  Recency  MntWines  MntFruits  MntMeatProducts  \\\n",
      "0            NaN      NaN       NaN       88.0              NaN   \n",
      "1            NaN      NaN       NaN        NaN              NaN   \n",
      "2            NaN      NaN       NaN        NaN              NaN   \n",
      "3            NaN      NaN       NaN        NaN              NaN   \n",
      "4            NaN      NaN       NaN        NaN              NaN   \n",
      "...          ...      ...       ...        ...              ...   \n",
      "2235         NaN      NaN       NaN        NaN              NaN   \n",
      "2236         NaN      NaN       NaN        NaN              NaN   \n",
      "2237         NaN      NaN       NaN        NaN              NaN   \n",
      "2238         NaN      NaN       NaN        NaN              NaN   \n",
      "2239         NaN      NaN       NaN        NaN              NaN   \n",
      "\n",
      "      MntFishProducts  MntSweetProducts  MntGoldProds  NumDealsPurchases  \\\n",
      "0               172.0              88.0           NaN                NaN   \n",
      "1                 NaN               NaN           NaN                NaN   \n",
      "2                 NaN               NaN           NaN                NaN   \n",
      "3                 NaN               NaN           NaN                NaN   \n",
      "4                 NaN               NaN           NaN                NaN   \n",
      "...               ...               ...           ...                ...   \n",
      "2235              NaN             118.0         247.0                NaN   \n",
      "2236              NaN               NaN           NaN                7.0   \n",
      "2237              NaN               NaN           NaN                NaN   \n",
      "2238              NaN               NaN           NaN                NaN   \n",
      "2239              NaN               NaN           NaN                NaN   \n",
      "\n",
      "      NumWebPurchases  NumCatalogPurchases  NumStorePurchases  \\\n",
      "0                 NaN                  NaN                NaN   \n",
      "1                 NaN                  NaN                NaN   \n",
      "2                 NaN                  NaN                NaN   \n",
      "3                 NaN                  NaN                NaN   \n",
      "4                 NaN                  NaN                NaN   \n",
      "...               ...                  ...                ...   \n",
      "2235              NaN                  NaN                NaN   \n",
      "2236              NaN                  NaN                NaN   \n",
      "2237              NaN                  NaN                NaN   \n",
      "2238              NaN                  NaN                NaN   \n",
      "2239              NaN                  NaN                NaN   \n",
      "\n",
      "      NumWebVisitsMonth  AcceptedCmp3  AcceptedCmp4  AcceptedCmp5  \\\n",
      "0                   NaN           NaN           NaN           NaN   \n",
      "1                   NaN           NaN           NaN           NaN   \n",
      "2                   NaN           NaN           NaN           NaN   \n",
      "3                   NaN           NaN           NaN           NaN   \n",
      "4                   NaN           NaN           NaN           NaN   \n",
      "...                 ...           ...           ...           ...   \n",
      "2235                NaN           NaN           NaN           NaN   \n",
      "2236                NaN           NaN           NaN           NaN   \n",
      "2237                NaN           NaN           1.0           NaN   \n",
      "2238                NaN           NaN           NaN           NaN   \n",
      "2239                NaN           NaN           NaN           NaN   \n",
      "\n",
      "      AcceptedCmp1  AcceptedCmp2  Complain  Z_CostContact  Z_Revenue  Response  \n",
      "0              NaN           NaN       NaN            NaN        NaN       1.0  \n",
      "1              NaN           NaN       NaN            NaN        NaN       NaN  \n",
      "2              NaN           NaN       NaN            NaN        NaN       NaN  \n",
      "3              NaN           NaN       NaN            NaN        NaN       NaN  \n",
      "4              NaN           NaN       NaN            NaN        NaN       NaN  \n",
      "...            ...           ...       ...            ...        ...       ...  \n",
      "2235           NaN           NaN       NaN            NaN        NaN       NaN  \n",
      "2236           1.0           NaN       NaN            NaN        NaN       NaN  \n",
      "2237           NaN           NaN       NaN            NaN        NaN       NaN  \n",
      "2238           NaN           NaN       NaN            NaN        NaN       NaN  \n",
      "2239           NaN           NaN       NaN            NaN        NaN       1.0  \n",
      "\n",
      "[2240 rows x 29 columns]\n"
     ]
    }
   ],
   "source": [
    "print(outliers)"
   ]
  },
  {
   "cell_type": "code",
   "execution_count": null,
   "metadata": {},
   "outputs": [],
   "source": [
    "len(data)"
   ]
  },
  {
   "cell_type": "code",
   "execution_count": null,
   "metadata": {},
   "outputs": [],
   "source": []
  }
 ],
 "metadata": {
  "kernelspec": {
   "display_name": "Python 3 (ipykernel)",
   "language": "python",
   "name": "python3"
  },
  "language_info": {
   "codemirror_mode": {
    "name": "ipython",
    "version": 3
   },
   "file_extension": ".py",
   "mimetype": "text/x-python",
   "name": "python",
   "nbconvert_exporter": "python",
   "pygments_lexer": "ipython3",
   "version": "3.8.12"
  }
 },
 "nbformat": 4,
 "nbformat_minor": 4
}
